{
 "cells": [
  {
   "cell_type": "markdown",
   "id": "ddee5dac",
   "metadata": {},
   "source": [
    "### Section 1 - Number (Integers and Float)"
   ]
  },
  {
   "cell_type": "code",
   "execution_count": null,
   "id": "35628b19",
   "metadata": {},
   "outputs": [],
   "source": [
    "# Create a code that calculates sales tax\n",
    "# Total = #The amount you spent\n",
    "# Tax_percent = #The tax percentage e.g 10%, 20%, 30%, etc\n",
    "# Tax_amt = #The tax percentage multiplied by the total amount\n",
    "# Grand_total = #The total amount less the Tax Amount\n",
    "# Print(Narration)\n",
    "#--------------- Write your code below----------------------------#\n",
    "Total = int(input(\"amount spent? \"))\n",
    "Tax_Perc = float(input(\"Tax percentage is? \"))\n",
    "Tax_amt = Tax_Perc * Total\n",
    "Grand_total = float(Total - Tax_amt)\n",
    "print (\"Tax amount is: \")\n",
    "print (Tax_amt)\n",
    "print (\"Total amount is: \")\n",
    "print (Grand_total)\n",
    "print (f\" the grand total is {Grand_total}\")\n",
    "format(Grand_total, ',.2f')\n"
   ]
  },
  {
   "cell_type": "code",
   "execution_count": null,
   "id": "7decf2bb",
   "metadata": {},
   "outputs": [],
   "source": [
    "# Print(The test score program)\n",
    "# Print(--------------------------)\n",
    "# Print(Enter 3 test score)\n",
    "# Print(-----------------------------------)\n",
    "# Total_score = 0\n",
    "# Total_score += Get input from user\n",
    "# Total_score += Get input from user\n",
    "# Total_score += Get input from user\n",
    "# Average_score = Get the Average score\n",
    "# Print(-----------------------------------)\n",
    "# Using print formatting - print Total Score and Average Score\n",
    "# Print()\n",
    "# Print(Bye)\n",
    "\n",
    "#--------------- Write your code below----------------------------#\n",
    "\n",
    "Total_score = 0\n",
    "Total_score += int(input(\"firse score \"))\n",
    "Total_score += int(input(\"second score \"))\n",
    "Total_score += int(input(\"third score \"))\n",
    "print (\"Total score is \")\n",
    "print (Total_score)\n",
    "Average_score = Total_score/3\n",
    "print (\"Average score is \")\n",
    "print(Average_score)\n",
    "print(\"Bye!\")"
   ]
  },
  {
   "cell_type": "code",
   "execution_count": null,
   "id": "e0c7266e",
   "metadata": {},
   "outputs": [],
   "source": [
    "Total_score = 0\n",
    "counter = 0\n",
    "Total_score += int(input(\"firse score \"))\n",
    "counter = counter + 1\n",
    "Total_score += int(input(\"second score \"))\n",
    "counter = counter + 1\n",
    "Total_score += int(input(\"third score \"))\n",
    "counter = counter + 1\n",
    "print (\"Total score is \")\n",
    "print (Total_score)\n",
    "print (counter)\n",
    "Average_score = Total_score/counter\n",
    "print (\"Average score is \")\n",
    "print(Average_score)\n",
    "print(\"Bye!\")"
   ]
  },
  {
   "cell_type": "code",
   "execution_count": null,
   "id": "5804aeea",
   "metadata": {},
   "outputs": [],
   "source": [
    "# calculate the mean of the numeric values in the list below\n",
    "\n",
    "# list1 = [150, rat, 80, fish, 300, 400, 500]\n",
    "# mean = sum of total / count of total\n",
    "\n",
    "# ---------------------write your code here -----------------------#\n",
    "\n",
    "list1 = [150, \"rat\", 80, \"fish\", 300, 400, 500]\n",
    "sum_list = int(list1[0] + list1[2] + list1[4] + list1[5] + list1[6])\n",
    "print (\"the sum list is \")\n",
    "print (sum_list)\n",
    "len_list = len(list1)-2\n",
    "print(\"the count of total is \")\n",
    "print(len_list)\n",
    "mean = sum_list/len_list\n",
    "print (\"the mean value is \")\n",
    "print (mean)"
   ]
  },
  {
   "cell_type": "markdown",
   "id": "7da3a466",
   "metadata": {},
   "source": [
    "### Section 2 - Strings"
   ]
  },
  {
   "cell_type": "code",
   "execution_count": null,
   "id": "ab64a499",
   "metadata": {},
   "outputs": [],
   "source": [
    "# Create a string made of the middle three characters\n",
    "# str1 = \"efEMEna\"\n",
    "# output = EME\n",
    "# return the output with a print function with the text 'Are you certain the expected output is ___ ?'\n",
    "# ---------------------write your code here -----------------------#\n",
    "\n",
    "str1 = \"efEMEna\"\n",
    "str_1 = str1[2:5]\n",
    "print (\"the output is \")\n",
    "print (str_1)\n",
    "print (f'Are you certain the expected output is {str_1} ?')\n",
    "print (\"Yes!\")"
   ]
  },
  {
   "cell_type": "code",
   "execution_count": null,
   "id": "9b8d99b2",
   "metadata": {},
   "outputs": [],
   "source": [
    "# Assign The quick brown fox jumps over the lazy dog to a Variable\n",
    "# Slice the string to obtain quick brown fox\n",
    "# Slice the string to obtain the lazy dog\n",
    "# Use negative Indexing to obtain lazy dog\n",
    "# Obtain the Length of the string\n",
    "\n",
    "#--------------- Write your code below----------------------------#\n",
    "\n",
    "sent1 = \"The quick brown fox jumps over the lazy dog to a Variable\"\n",
    "slice1 = sent1[4:19]\n",
    "print (\"Slice the string to obtain quick brown fox: \")\n",
    "print (slice1)\n",
    "\n",
    "slice2 = sent1[31:44]\n",
    "print (\"Slice the string to obtain the lazy dog: \")\n",
    "print (slice2)\n",
    "\n",
    "slice3 = sent1[-22:-14]\n",
    "print (\"Using negative Indexing to obtain lazy dog \")\n",
    "print (slice3)\n",
    "\n",
    "length =len(sent1)\n",
    "print (\"The Length of the string is \")\n",
    "print (length)"
   ]
  },
  {
   "cell_type": "code",
   "execution_count": null,
   "id": "748b3dd5",
   "metadata": {},
   "outputs": [],
   "source": [
    "# Get input from user and Concatenate the code below\n",
    "# Name = What is your name?\n",
    "# Age = How old are you?\n",
    "# State = What is your state of origin?\n",
    "# Profession = What is your profession?\n",
    "# Bio = print My name is _ and i'm _ years old. I am from _ state and i am _ by profession \n",
    "\n",
    "#--------------- Write your code below----------------------------#\n",
    "name = str(input(\"What is your name? \"))\n",
    "age = str(input(\"How hold are you?\" ))\n",
    "state = str(input(\"What is your state of origin? \"))\n",
    "profession = str(input (\"What is your profession? \"))\n",
    "Bio = name + \" \" + age + \" \" +  state + \" \" + profession\n",
    "print (Bio)\n",
    "print(f\"My name is {name} and i'm {age} years old. I am from {state} and i am {profession}\")"
   ]
  },
  {
   "cell_type": "code",
   "execution_count": null,
   "id": "518c249c",
   "metadata": {},
   "outputs": [],
   "source": [
    "# Assign the text 'One of the first notebooks: Galileo's drawings of Jupiter and its Medicean Stars from Sidereus Nuncius'. to a variable\n",
    "# print the length of \"Jupiter\" from within the string\n",
    "# how many WORDS are contained in the text?\n",
    "\n",
    "\n",
    "# ---------------------write your code here -----------------------#\n",
    "\n",
    "text = \"One of the first notebooks: Galileo's drawings of Jupiter and its Medicean Stars from Sidereus Nuncius\"\n",
    "slice1 = text[50:57]\n",
    "print(slice1)\n",
    "length=len(slice1)\n",
    "print(length)"
   ]
  },
  {
   "cell_type": "code",
   "execution_count": null,
   "id": "9641665d",
   "metadata": {},
   "outputs": [],
   "source": [
    "#text = \"One of the first notebooks: Galileo's drawings of Jupiter and its Medicean Stars from Sidereus Nuncius\"\n",
    "# how many WORDS are contained in the text?\n",
    "\n",
    "\n",
    "sentence = \"One of the first notebooks: Galileo's drawings of Jupiter and its Medicean Stars from Sidereus Nuncius\"\n",
    "# no of words = no of space count + 1. So, we can count the space + 1 to get the no of words.\n",
    "space_count = 0\n",
    "for character in sentence:\n",
    "    if character == \" \":\n",
    "        space_count = space_count + 1\n",
    "number_of_words = space_count + 1\n",
    "print(\"The number of WORDS in the text is: \")\n",
    "print(number_of_words)"
   ]
  },
  {
   "cell_type": "markdown",
   "id": "94974be4",
   "metadata": {},
   "source": [
    "### Section 3 - Lists"
   ]
  },
  {
   "cell_type": "code",
   "execution_count": null,
   "id": "da88e15a",
   "metadata": {},
   "outputs": [],
   "source": [
    "# Create a list of states in Nigeria\n",
    "# Abia\n",
    "# Adamawa\n",
    "# Akwa Ibom\n",
    "# Anambra\n",
    "# Bayelsa\n",
    "# Benue\n",
    "# Borno\n",
    "# Cross River\n",
    "# Nasarawa\n",
    "# Niger\n",
    "# Ogun\n",
    "# Ondo\n",
    "# Osun\n",
    "# Oyo\n",
    "# Plateau\n",
    "# Rivers\n",
    "# Sokoto\n",
    "# Taraba\n",
    "# Yobe\n",
    "# Zamfara\n",
    "\n",
    "#--------------- Write your code below----------------------------#\n",
    "#Q5: Add 4 new states\n",
    "\n",
    "States_in_Nigeria = [\"Abia\", \"Adamawa\", \"Akwa Ibom\", \"Anambra\", \"Bayelsa\", \"Benue\", \"Borno\", \"Cross River\", \"Nasarawa\", \"Niger\", \"Ogun\", \"Ondo\", \"Osun\", \"Oyo\", \"Plateau\", \"Rivers\", \"Sokoto\", \"Taraba\", \"Yobe\", \"Zamfara\"]\n",
    "print(\"State in Nigeria has given are: \")\n",
    "print(States_in_Nigeria)\n",
    "\n",
    "Additional_St=[\"Ebonyi\", \"Enugu\", \"Abuja\", \"Sokoto\"]\n",
    "print(\"Additional 5 States are: \")\n",
    "print(Additional_St)\n",
    "\n",
    "States_in_Nigeria.append(Additional_St)\n",
    "print(\"Update State in Nigeria are: \")\n",
    "print(States_in_Nigeria)"
   ]
  },
  {
   "cell_type": "code",
   "execution_count": null,
   "id": "60dd853c",
   "metadata": {},
   "outputs": [],
   "source": [
    "# Q2: Index and retrieve the first 10\n",
    "# Q3: Index and retrieve Cross River, Nasarawa, Niger, Ogun, Ondo, Osun, Oyo, Plateau\n",
    "# Q4: Use Negative indexing to retrieve the last 5 states\n",
    "\n",
    "#--------------- Write your code below----------------------------#\n",
    "print(\"the retrived first 10 states from the list are: \")\n",
    "States_in_Nigeria[0:10]\n",
    "print(\"Retrived states are: \")\n",
    "States_in_Nigeria[7:15]\n"
   ]
  },
  {
   "cell_type": "code",
   "execution_count": null,
   "id": "44af840d",
   "metadata": {},
   "outputs": [],
   "source": [
    "#Q6: Confirm the length of the list\n",
    "\n",
    "#--------------- Write your code below----------------------------#\n",
    "length = len(States_in_Nigeria)\n",
    "length"
   ]
  },
  {
   "cell_type": "code",
   "execution_count": null,
   "id": "07399d99",
   "metadata": {},
   "outputs": [],
   "source": [
    "#Q7. Remove Bauchi, Oyo and Yobe\n",
    "\n",
    "#--------------- Write your code below----------------------------#\n",
    "\n",
    "States_in_Nigeria.pop(1)"
   ]
  },
  {
   "cell_type": "code",
   "execution_count": null,
   "id": "8f50bc83",
   "metadata": {},
   "outputs": [],
   "source": [
    "# calculate the mean of the numeric values in the list below\n",
    "\n",
    "# list1 = [100, 200, 300, 400, 500]\n",
    "# mean = sum of total / count of total\n",
    "\n",
    "# ---------------------write your code here -----------------------#\n",
    "list1 = [100, 200, 300, 400, 500]\n",
    "sum_of_list1 = float(list1[0] + list1[1] + list1[2] + list1[3] + list1[4])\n",
    "sum_of_list1\n",
    "mean = float(sum_of_list1/5)\n",
    "print(\"the mean value is: \")\n",
    "print(sum_of_list1)\n",
    "format(sum_of_list1, ',.2f')"
   ]
  },
  {
   "cell_type": "markdown",
   "id": "f53b08d6",
   "metadata": {},
   "source": [
    "### Section 4 - Dictionaries"
   ]
  },
  {
   "cell_type": "code",
   "execution_count": null,
   "id": "9c4482e7",
   "metadata": {},
   "outputs": [],
   "source": [
    "# Q1 created a dictionary that takes name, age, occupation, location and a list of the last five meals you have had\n",
    "\n",
    "# dictionary = _ _ _ _ _ _ _ _ _ _ _ _\n",
    "\n",
    "# ---------------------write your code here -----------------------#\n",
    "\n",
    "yk_dict={\"name\":\"Yinka\", \"age\":\"15\", \"occupation\":\"Data Scientist\", \"location\":\"Lagos\", }\n",
    "print(yk_dict)\n",
    "yk_dict[\"last_5_meal\"]=\"rice\", \"beans\", \"amala\", \"pounded yam\", \"bread\"\n",
    "yk_dict"
   ]
  },
  {
   "cell_type": "code",
   "execution_count": null,
   "id": "bd487498",
   "metadata": {},
   "outputs": [],
   "source": [
    "# Q2: Create a dictionary of states and governor in Nigeria\n",
    "\n",
    "# Abia State: nil\n",
    "# Anambra State: Willie Obiano\n",
    "# Benue State: Samuel Ortom\n",
    "# Delta State: Ifeanyi Okowa\n",
    "# Ekiti State: nil\n",
    "# Lagos State: Babajide Sanwo-Olu\n",
    "# Plateau State: Simon Lalong\n",
    "# Taraba State: Arch. Darius Ishaku\n",
    "# Kogi State: Yahaya Bello\n",
    "# Anambra State: Willie Obiano\n",
    "\n",
    "#--------------- Write your code below----------------------------#\n",
    "\n",
    "dict_states={\"Abia\":\"Nil\", \"Anambra State\": \"Willie Obiano\", \"Benue State\": \"Samuel Ortom\", \"Delta State\": \"Ifeanyi Okowa\", \"Ekiti State\": \"Nil\", \"Lagos State\": \"Babajide Sanwo-Olu\",\"Plateau State\": \"Simon Lalong\", \"Taraba State\": \"Arch. Darius Ishaku\",\"Kogi State\": \"Yahaya Bello\", \"Anambra State\": \"Willie Obiano\"}\n",
    "dict_states"
   ]
  },
  {
   "cell_type": "code",
   "execution_count": null,
   "id": "c7552fe0",
   "metadata": {},
   "outputs": [],
   "source": [
    "# Q3: update Abia and Ekiti (Okezie Ikpeazu, Kayode Fayemi)\n",
    "\n",
    "#--------------- Write your code below----------------------------#\n",
    "\n",
    "update = dict_states.update({\"Abia\":\"Okezie Ikpeazu\", \"Ekiti\":\"Kayode Fayemi\"})\n",
    "dict_states"
   ]
  },
  {
   "cell_type": "code",
   "execution_count": null,
   "id": "cc260383",
   "metadata": {},
   "outputs": [],
   "source": [
    "# Q4: Add\n",
    "# Cross River State: Benedict Ayade\n",
    "# Ebonyi State: Dave Umahi\n",
    "# Sokoto State: Aminu Waziri Tambuwal\n",
    "\n",
    "#--------------- Write your code below----------------------------#\n",
    "\n",
    "update = dict_states.update({\"Cross River State\": \"Benedict Ayade\", \"Ebonyi State\": \"Dave Umahi\", \"Sokoto State\": \"Aminu Waziri Tambuwal\"})\n",
    "dict_states\n"
   ]
  },
  {
   "cell_type": "code",
   "execution_count": null,
   "id": "987d3ab6",
   "metadata": {},
   "outputs": [],
   "source": [
    "dict_states = {'Abia': 'Okezie Ikpeazu', 'Anambra State': 'Willie Obiano', 'Benue State': 'Samuel Ortom', 'Delta State': 'Ifeanyi Okowa', 'Ekiti State': 'Nil', 'Lagos State': 'Babajide Sanwo-Olu', 'Plateau State': 'Simon Lalong', 'Taraba State': 'Arch. Darius Ishaku', 'Kogi State': 'Yahaya Bello', 'Ekiti': 'Kayode Fayemi', 'Cross River State': 'Benedict Ayade', 'Ebonyi State': 'Dave Umahi', 'Sokoto State': 'Aminu Waziri Tambuwal'}\n"
   ]
  },
  {
   "cell_type": "markdown",
   "id": "49396973",
   "metadata": {},
   "source": []
  },
  {
   "cell_type": "code",
   "execution_count": null,
   "id": "fe3fa884",
   "metadata": {},
   "outputs": [],
   "source": [
    "# Get atleast 5 random numbers using a single input function\n",
    "# convert these inputs to a list\n",
    "# finally obtain the mean of these numbers\n",
    "\n",
    "\n",
    "# list1 = [100, 200, 300, 400, 500]\n",
    "\n",
    "# ---------------------write your code here -----------------------#"
   ]
  },
  {
   "cell_type": "markdown",
   "id": "0afe83f6",
   "metadata": {},
   "source": [
    "### Section 5 - Set"
   ]
  },
  {
   "cell_type": "code",
   "execution_count": null,
   "id": "c0dae0ec",
   "metadata": {},
   "outputs": [],
   "source": [
    "# add all the elements of sample_list into a given sample_set.\n",
    "\n",
    "# sample_set = {\"Yellow\", \"Orange\", \"Black\"}\n",
    "# sample_list = [\"Blue\", \"Green\", \"Red\", \"white\"]\n",
    "\n",
    "# ---------------------write your code here -----------------------#\n",
    "\n",
    "sample_set = {\"Yellow\", \"Orange\", \"Black\"}\n",
    "sample_list = [\"Blue\", \"Green\", \"Red\", \"white\"]\n",
    "sample_set.update(sample_list)\n",
    "print(sample_set)"
   ]
  }
 ],
 "metadata": {
  "kernelspec": {
   "display_name": "Python 3 (ipykernel)",
   "language": "python",
   "name": "python3"
  },
  "language_info": {
   "codemirror_mode": {
    "name": "ipython",
    "version": 3
   },
   "file_extension": ".py",
   "mimetype": "text/x-python",
   "name": "python",
   "nbconvert_exporter": "python",
   "pygments_lexer": "ipython3",
   "version": "3.9.12"
  }
 },
 "nbformat": 4,
 "nbformat_minor": 5
}
